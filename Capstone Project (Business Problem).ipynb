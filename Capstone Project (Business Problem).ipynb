{
 "cells": [
  {
   "cell_type": "markdown",
   "metadata": {},
   "source": [
    "# Introduction/Business Problem"
   ]
  },
  {
   "cell_type": "markdown",
   "metadata": {},
   "source": [
    "While car accidents are often unpredictable, they can be greatly reduced if drivers are more cautious and aware of their surroundings. The severity of car accidents is highly affected by environmental factors such as the weather, road conditions, time of day, and location. Knowing which factors and how much they affect car accidents will provide important information that can be used to warn drivers to be extra careful during certain road conditions through road signs or warnings."
   ]
  }
 ],
 "metadata": {
  "kernelspec": {
   "display_name": "Python 3",
   "language": "python",
   "name": "python3"
  },
  "language_info": {
   "codemirror_mode": {
    "name": "ipython",
    "version": 3
   },
   "file_extension": ".py",
   "mimetype": "text/x-python",
   "name": "python",
   "nbconvert_exporter": "python",
   "pygments_lexer": "ipython3",
   "version": "3.7.6"
  }
 },
 "nbformat": 4,
 "nbformat_minor": 4
}
