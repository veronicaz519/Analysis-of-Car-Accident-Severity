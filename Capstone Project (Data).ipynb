{
 "cells": [
  {
   "cell_type": "markdown",
   "metadata": {},
   "source": [
    "# Data"
   ]
  },
  {
   "cell_type": "markdown",
   "metadata": {},
   "source": [
    "The data we will be using is the Seattle city data provided by SPD and recorded by Traffic Records for all collisions that occured at the intersection or mid-block of a segment from years 2004 to 2020. Since we are trying to see how environmental factors affect the severity of car accidents, we will primarily look at variables related to weather, road conditions, and more. Such variables include `WEATHER`, `ROADCOND`, `LIGHTCOND`, `ADDRTYPE`, etc. We will use these variables to see how it impacts the severity of the accident (`SEVERITYCODE`)."
   ]
  }
 ],
 "metadata": {
  "kernelspec": {
   "display_name": "Python 3",
   "language": "python",
   "name": "python3"
  },
  "language_info": {
   "codemirror_mode": {
    "name": "ipython",
    "version": 3
   },
   "file_extension": ".py",
   "mimetype": "text/x-python",
   "name": "python",
   "nbconvert_exporter": "python",
   "pygments_lexer": "ipython3",
   "version": "3.7.6"
  }
 },
 "nbformat": 4,
 "nbformat_minor": 4
}
